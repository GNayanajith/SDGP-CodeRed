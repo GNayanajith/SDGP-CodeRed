{
 "cells": [
  {
   "cell_type": "code",
   "execution_count": 12,
   "metadata": {},
   "outputs": [
    {
     "data": {
      "text/plain": [
       "(3070, 2)"
      ]
     },
     "execution_count": 12,
     "metadata": {},
     "output_type": "execute_result"
    }
   ],
   "source": [
    "import pandas as pd\n",
    "df = pd.read_csv('OBD.csv')\n",
    "df.shape"
   ]
  },
  {
   "cell_type": "code",
   "execution_count": 13,
   "metadata": {},
   "outputs": [
    {
     "data": {
      "text/html": [
       "<div>\n",
       "<style scoped>\n",
       "    .dataframe tbody tr th:only-of-type {\n",
       "        vertical-align: middle;\n",
       "    }\n",
       "\n",
       "    .dataframe tbody tr th {\n",
       "        vertical-align: top;\n",
       "    }\n",
       "\n",
       "    .dataframe thead th {\n",
       "        text-align: right;\n",
       "    }\n",
       "</style>\n",
       "<table border=\"1\" class=\"dataframe\">\n",
       "  <thead>\n",
       "    <tr style=\"text-align: right;\">\n",
       "      <th></th>\n",
       "      <th>P0100</th>\n",
       "      <th>Mass or Volume Air Flow Circuit Malfunction</th>\n",
       "    </tr>\n",
       "  </thead>\n",
       "  <tbody>\n",
       "    <tr>\n",
       "      <th>count</th>\n",
       "      <td>3070</td>\n",
       "      <td>3070</td>\n",
       "    </tr>\n",
       "    <tr>\n",
       "      <th>unique</th>\n",
       "      <td>3070</td>\n",
       "      <td>2845</td>\n",
       "    </tr>\n",
       "    <tr>\n",
       "      <th>top</th>\n",
       "      <td>P1128</td>\n",
       "      <td>SCP (J1850) Invalid or Missing Data for Primar...</td>\n",
       "    </tr>\n",
       "    <tr>\n",
       "      <th>freq</th>\n",
       "      <td>1</td>\n",
       "      <td>105</td>\n",
       "    </tr>\n",
       "  </tbody>\n",
       "</table>\n",
       "</div>"
      ],
      "text/plain": [
       "        P0100        Mass or Volume Air Flow Circuit Malfunction\n",
       "count    3070                                               3070\n",
       "unique   3070                                               2845\n",
       "top     P1128  SCP (J1850) Invalid or Missing Data for Primar...\n",
       "freq        1                                                105"
      ]
     },
     "execution_count": 13,
     "metadata": {},
     "output_type": "execute_result"
    }
   ],
   "source": [
    "df.describe()"
   ]
  },
  {
   "cell_type": "code",
   "execution_count": 14,
   "metadata": {},
   "outputs": [
    {
     "data": {
      "text/plain": [
       "array([['P0101',\n",
       "        'Mass or Volume Air Flow Circuit Range/Performance Problem'],\n",
       "       ['P0102', 'Mass or Volume Air Flow Circuit Low Input'],\n",
       "       ['P0103', 'Mass or Volume Air Flow Circuit High Input'],\n",
       "       ...,\n",
       "       ['U2160', 'SCP (J1850) Invalid Data from IC'],\n",
       "       ['U2195', 'SCP (J1850) Invalid Data from SCLM'],\n",
       "       ['U2500', '(CAN) Lack of Acknowledgement From Engine Management']],\n",
       "      dtype=object)"
      ]
     },
     "execution_count": 14,
     "metadata": {},
     "output_type": "execute_result"
    }
   ],
   "source": [
    "df.values"
   ]
  },
  {
   "cell_type": "code",
   "execution_count": 15,
   "metadata": {},
   "outputs": [
    {
     "name": "stdout",
     "output_type": "stream",
     "text": [
      "OBD CODES\n"
     ]
    }
   ],
   "source": [
    "print('OBD CODES')"
   ]
  },
  {
   "cell_type": "code",
   "execution_count": 1,
   "metadata": {},
   "outputs": [
    {
     "data": {
      "text/html": [
       "<div>\n",
       "<style scoped>\n",
       "    .dataframe tbody tr th:only-of-type {\n",
       "        vertical-align: middle;\n",
       "    }\n",
       "\n",
       "    .dataframe tbody tr th {\n",
       "        vertical-align: top;\n",
       "    }\n",
       "\n",
       "    .dataframe thead th {\n",
       "        text-align: right;\n",
       "    }\n",
       "</style>\n",
       "<table border=\"1\" class=\"dataframe\">\n",
       "  <thead>\n",
       "    <tr style=\"text-align: right;\">\n",
       "      <th></th>\n",
       "      <th>P0100</th>\n",
       "      <th>Mass or Volume Air Flow Circuit Malfunction</th>\n",
       "    </tr>\n",
       "  </thead>\n",
       "  <tbody>\n",
       "    <tr>\n",
       "      <th>0</th>\n",
       "      <td>P0101</td>\n",
       "      <td>Mass or Volume Air Flow Circuit Range/Performa...</td>\n",
       "    </tr>\n",
       "    <tr>\n",
       "      <th>1</th>\n",
       "      <td>P0102</td>\n",
       "      <td>Mass or Volume Air Flow Circuit Low Input</td>\n",
       "    </tr>\n",
       "    <tr>\n",
       "      <th>2</th>\n",
       "      <td>P0103</td>\n",
       "      <td>Mass or Volume Air Flow Circuit High Input</td>\n",
       "    </tr>\n",
       "    <tr>\n",
       "      <th>3</th>\n",
       "      <td>P0104</td>\n",
       "      <td>Mass or Volume Air Flow Circuit Intermittent</td>\n",
       "    </tr>\n",
       "    <tr>\n",
       "      <th>4</th>\n",
       "      <td>P0105</td>\n",
       "      <td>Manifold Absolute Pressure/Barometric Pressure...</td>\n",
       "    </tr>\n",
       "    <tr>\n",
       "      <th>...</th>\n",
       "      <td>...</td>\n",
       "      <td>...</td>\n",
       "    </tr>\n",
       "    <tr>\n",
       "      <th>3065</th>\n",
       "      <td>U2150</td>\n",
       "      <td>SCP (J1850) Invalid Data from REM</td>\n",
       "    </tr>\n",
       "    <tr>\n",
       "      <th>3066</th>\n",
       "      <td>U2152</td>\n",
       "      <td>SCP (J1850) Invalid Data from GEM</td>\n",
       "    </tr>\n",
       "    <tr>\n",
       "      <th>3067</th>\n",
       "      <td>U2160</td>\n",
       "      <td>SCP (J1850) Invalid Data from IC</td>\n",
       "    </tr>\n",
       "    <tr>\n",
       "      <th>3068</th>\n",
       "      <td>U2195</td>\n",
       "      <td>SCP (J1850) Invalid Data from SCLM</td>\n",
       "    </tr>\n",
       "    <tr>\n",
       "      <th>3069</th>\n",
       "      <td>U2500</td>\n",
       "      <td>(CAN) Lack of Acknowledgement From Engine Mana...</td>\n",
       "    </tr>\n",
       "  </tbody>\n",
       "</table>\n",
       "<p>3070 rows × 2 columns</p>\n",
       "</div>"
      ],
      "text/plain": [
       "      P0100        Mass or Volume Air Flow Circuit Malfunction\n",
       "0     P0101  Mass or Volume Air Flow Circuit Range/Performa...\n",
       "1     P0102          Mass or Volume Air Flow Circuit Low Input\n",
       "2     P0103         Mass or Volume Air Flow Circuit High Input\n",
       "3     P0104       Mass or Volume Air Flow Circuit Intermittent\n",
       "4     P0105  Manifold Absolute Pressure/Barometric Pressure...\n",
       "...     ...                                                ...\n",
       "3065  U2150                  SCP (J1850) Invalid Data from REM\n",
       "3066  U2152                  SCP (J1850) Invalid Data from GEM\n",
       "3067  U2160                   SCP (J1850) Invalid Data from IC\n",
       "3068  U2195                 SCP (J1850) Invalid Data from SCLM\n",
       "3069  U2500  (CAN) Lack of Acknowledgement From Engine Mana...\n",
       "\n",
       "[3070 rows x 2 columns]"
      ]
     },
     "execution_count": 1,
     "metadata": {},
     "output_type": "execute_result"
    }
   ],
   "source": [
    "import pandas as pd\n",
    "OBD_DATA = pd.read_csv('OBD.csv')\n",
    "OBD_DATA"
   ]
  },
  {
   "cell_type": "code",
   "execution_count": 19,
   "metadata": {},
   "outputs": [
    {
     "data": {
      "text/html": [
       "<div>\n",
       "<style scoped>\n",
       "    .dataframe tbody tr th:only-of-type {\n",
       "        vertical-align: middle;\n",
       "    }\n",
       "\n",
       "    .dataframe tbody tr th {\n",
       "        vertical-align: top;\n",
       "    }\n",
       "\n",
       "    .dataframe thead th {\n",
       "        text-align: right;\n",
       "    }\n",
       "</style>\n",
       "<table border=\"1\" class=\"dataframe\">\n",
       "  <thead>\n",
       "    <tr style=\"text-align: right;\">\n",
       "      <th></th>\n",
       "      <th>Mass or Volume Air Flow Circuit Malfunction</th>\n",
       "    </tr>\n",
       "  </thead>\n",
       "  <tbody>\n",
       "    <tr>\n",
       "      <th>0</th>\n",
       "      <td>Mass or Volume Air Flow Circuit Range/Performa...</td>\n",
       "    </tr>\n",
       "    <tr>\n",
       "      <th>1</th>\n",
       "      <td>Mass or Volume Air Flow Circuit Low Input</td>\n",
       "    </tr>\n",
       "    <tr>\n",
       "      <th>2</th>\n",
       "      <td>Mass or Volume Air Flow Circuit High Input</td>\n",
       "    </tr>\n",
       "    <tr>\n",
       "      <th>3</th>\n",
       "      <td>Mass or Volume Air Flow Circuit Intermittent</td>\n",
       "    </tr>\n",
       "    <tr>\n",
       "      <th>4</th>\n",
       "      <td>Manifold Absolute Pressure/Barometric Pressure...</td>\n",
       "    </tr>\n",
       "    <tr>\n",
       "      <th>...</th>\n",
       "      <td>...</td>\n",
       "    </tr>\n",
       "    <tr>\n",
       "      <th>3065</th>\n",
       "      <td>SCP (J1850) Invalid Data from REM</td>\n",
       "    </tr>\n",
       "    <tr>\n",
       "      <th>3066</th>\n",
       "      <td>SCP (J1850) Invalid Data from GEM</td>\n",
       "    </tr>\n",
       "    <tr>\n",
       "      <th>3067</th>\n",
       "      <td>SCP (J1850) Invalid Data from IC</td>\n",
       "    </tr>\n",
       "    <tr>\n",
       "      <th>3068</th>\n",
       "      <td>SCP (J1850) Invalid Data from SCLM</td>\n",
       "    </tr>\n",
       "    <tr>\n",
       "      <th>3069</th>\n",
       "      <td>(CAN) Lack of Acknowledgement From Engine Mana...</td>\n",
       "    </tr>\n",
       "  </tbody>\n",
       "</table>\n",
       "<p>3070 rows × 1 columns</p>\n",
       "</div>"
      ],
      "text/plain": [
       "            Mass or Volume Air Flow Circuit Malfunction\n",
       "0     Mass or Volume Air Flow Circuit Range/Performa...\n",
       "1             Mass or Volume Air Flow Circuit Low Input\n",
       "2            Mass or Volume Air Flow Circuit High Input\n",
       "3          Mass or Volume Air Flow Circuit Intermittent\n",
       "4     Manifold Absolute Pressure/Barometric Pressure...\n",
       "...                                                 ...\n",
       "3065                  SCP (J1850) Invalid Data from REM\n",
       "3066                  SCP (J1850) Invalid Data from GEM\n",
       "3067                   SCP (J1850) Invalid Data from IC\n",
       "3068                 SCP (J1850) Invalid Data from SCLM\n",
       "3069  (CAN) Lack of Acknowledgement From Engine Mana...\n",
       "\n",
       "[3070 rows x 1 columns]"
      ]
     },
     "execution_count": 19,
     "metadata": {},
     "output_type": "execute_result"
    }
   ],
   "source": [
    "import pandas as pd\n",
    "OBD_DATA = pd.read_csv('OBD.csv')\n",
    "OBD_DATA.drop(columns=['P0100'])"
   ]
  },
  {
   "cell_type": "code",
   "execution_count": null,
   "metadata": {},
   "outputs": [],
   "source": []
  }
 ],
 "metadata": {
  "kernelspec": {
   "display_name": "Python 3",
   "language": "python",
   "name": "python3"
  },
  "language_info": {
   "codemirror_mode": {
    "name": "ipython",
    "version": 3
   },
   "file_extension": ".py",
   "mimetype": "text/x-python",
   "name": "python",
   "nbconvert_exporter": "python",
   "pygments_lexer": "ipython3",
   "version": "3.8.5"
  }
 },
 "nbformat": 4,
 "nbformat_minor": 4
}
